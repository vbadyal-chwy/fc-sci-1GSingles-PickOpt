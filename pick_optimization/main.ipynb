{
 "cells": [
  {
   "cell_type": "markdown",
   "metadata": {},
   "source": [
    "### Import Libraries & Modules"
   ]
  },
  {
   "cell_type": "code",
   "execution_count": null,
   "metadata": {},
   "outputs": [],
   "source": [
    "# Auto reload modules -> helps with development\n",
    "%load_ext autoreload\n",
    "%autoreload 2\n",
    "\n",
    "# Import Libraries\n",
    "import os\n",
    "from pathlib import Path\n",
    "\n",
    "# Import Modules\n",
    "from data.data_puller import DataPuller\n",
    "from config import load_config\n",
    "from utils.logging_config import setup_logging\n",
    "from data.data_validator import DataValidator\n",
    "from engine.sim_engine import SimEngine\n"
   ]
  },
  {
   "cell_type": "markdown",
   "metadata": {},
   "source": [
    "### Load Configs"
   ]
  },
  {
   "cell_type": "code",
   "execution_count": null,
   "metadata": {},
   "outputs": [],
   "source": [
    "# Configuration settings\n",
    "config_file = 'pick_optimization/config/config.yaml'\n",
    "\n",
    "# Load configuration\n",
    "main_dir = Path.cwd().parent \n",
    "config_path = os.path.join(main_dir, config_file)\n",
    "config = load_config(config_path)\n",
    "\n",
    "# Set up logging\n",
    "logger = setup_logging(config)\n",
    "\n",
    "    \n",
    "logger.info(\"Starting Pick Planning Model execution\")\n",
    "\n",
    "# Get input mode and parameters\n",
    "input_mode = config['global']['input_mode']\n",
    "fc = config['global']['wh_id']\n",
    "start_time = config['global']['start_time']\n",
    "end_time = config['global']['end_time']\n"
   ]
  },
  {
   "cell_type": "markdown",
   "metadata": {},
   "source": [
    "### Load Input Data"
   ]
  },
  {
   "cell_type": "code",
   "execution_count": null,
   "metadata": {},
   "outputs": [],
   "source": [
    "# Initialize data puller\n",
    "data_puller = DataPuller(config_path, input_mode)\n",
    "\n",
    "# Pull required data\n",
    "logger.info(\"Fetching input data...\")\n",
    "container_data = data_puller.get_container_data(fc, start_time, end_time)\n",
    "slotbook_data = data_puller.get_slotbook_data(fc)\n",
    "\n",
    "# Validate input data\n",
    "validator = DataValidator(config)\n",
    "container_data, slotbook_data = validator.validate(container_data, slotbook_data)\n"
   ]
  },
  {
   "cell_type": "markdown",
   "metadata": {},
   "source": [
    "### Run Pick Optimization Model"
   ]
  },
  {
   "cell_type": "code",
   "execution_count": null,
   "metadata": {},
   "outputs": [],
   "source": [
    "# Initialize and run simulation engine\n",
    "logger.info(\"Initializing simulation engine...\")\n",
    "engine = SimEngine(config)\n",
    "\n",
    "results = engine.run(\n",
    "    container_data=container_data,\n",
    "    slotbook_data=slotbook_data,\n",
    "    start_time=start_time,\n",
    "    end_time=end_time\n",
    ")\n"
   ]
  }
 ],
 "metadata": {
  "kernelspec": {
   "display_name": "pickplan-env",
   "language": "python",
   "name": "python3"
  },
  "language_info": {
   "codemirror_mode": {
    "name": "ipython",
    "version": 3
   },
   "file_extension": ".py",
   "mimetype": "text/x-python",
   "name": "python",
   "nbconvert_exporter": "python",
   "pygments_lexer": "ipython3",
   "version": "3.12.5"
  }
 },
 "nbformat": 4,
 "nbformat_minor": 2
}
