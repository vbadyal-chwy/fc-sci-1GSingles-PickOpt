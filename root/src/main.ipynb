{
 "cells": [
  {
   "cell_type": "markdown",
   "metadata": {},
   "source": [
    "## 1G Pick Planning Model"
   ]
  },
  {
   "cell_type": "markdown",
   "metadata": {},
   "source": [
    "### Import Libraries & Modules"
   ]
  },
  {
   "cell_type": "code",
   "execution_count": null,
   "metadata": {},
   "outputs": [],
   "source": [
    "%load_ext autoreload\n",
    "%autoreload 2\n",
    "\n",
    "import os\n",
    "from pathlib import Path\n",
    "from utility.data_puller import DataPuller\n",
    "from utility.config_loader import load_config\n",
    "from utility.logging_config import setup_logging\n",
    "from utility.data_validator import DataValidator\n",
    "from sim_engine import SimEngine\n"
   ]
  },
  {
   "cell_type": "markdown",
   "metadata": {},
   "source": [
    "### Fetch Input Data"
   ]
  },
  {
   "cell_type": "code",
   "execution_count": null,
   "metadata": {},
   "outputs": [],
   "source": [
    "# Load configuration\n",
    "main_dir = Path().resolve()\n",
    "config_path = os.path.join(main_dir.parent, 'config', 'config.yaml')\n",
    "\n",
    "config = load_config(config_path)\n",
    "\n",
    "# Set up logging\n",
    "logger = setup_logging(config)\n",
    "\n",
    "input_mode = config['global']['input_mode']\n",
    "\n",
    "# Initialize DataPuller\n",
    "data_puller = DataPuller(config_path, input_mode)\n",
    "\n",
    "# Get global parameters used when fetching data\n",
    "fc = config['global']['wh_id']\n",
    "start_time = config['global']['start_time']\n",
    "end_time = config['global']['end_time']\n",
    "\n",
    "#Pull data\n",
    "logger.info(\"Pulling required data...\")\n",
    "container_data = data_puller.get_container_data(fc, start_time, end_time)\n",
    "slotbook_data = data_puller.get_slotbook_data(fc)\n",
    "\n"
   ]
  },
  {
   "cell_type": "markdown",
   "metadata": {},
   "source": [
    "### Input Data Validation"
   ]
  },
  {
   "cell_type": "code",
   "execution_count": null,
   "metadata": {},
   "outputs": [],
   "source": [
    "# Initialize validator\n",
    "validator = DataValidator(config)\n",
    "\n",
    "# Validate and analyze data\n",
    "container_data, slotbook_data = validator.validate(container_data, slotbook_data)\n"
   ]
  },
  {
   "cell_type": "markdown",
   "metadata": {},
   "source": [
    "### Run Pick Planning Iteratively"
   ]
  },
  {
   "cell_type": "code",
   "execution_count": null,
   "metadata": {},
   "outputs": [],
   "source": [
    "# Initialize engine\n",
    "engine = SimEngine(config)\n",
    "\n",
    "# Run simulation\n",
    "results = engine.run(\n",
    "    container_data=container_data,\n",
    "    slotbook_data=slotbook_data,\n",
    "    start_time=start_time,\n",
    "    end_time=end_time\n",
    ")\n",
    "\n",
    "# Access results\n",
    "consolidated_results = results.get_consolidated_results()\n"
   ]
  },
  {
   "cell_type": "code",
   "execution_count": null,
   "metadata": {},
   "outputs": [],
   "source": [
    "consolidated_results['container_assignments'].to_csv('container_assignments.csv')\n"
   ]
  }
 ],
 "metadata": {
  "kernelspec": {
   "display_name": "pickplan-env",
   "language": "python",
   "name": "python3"
  },
  "language_info": {
   "codemirror_mode": {
    "name": "ipython",
    "version": 3
   },
   "file_extension": ".py",
   "mimetype": "text/x-python",
   "name": "python",
   "nbconvert_exporter": "python",
   "pygments_lexer": "ipython3",
   "version": "3.12.5"
  }
 },
 "nbformat": 4,
 "nbformat_minor": 2
}
